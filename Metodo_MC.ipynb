{
  "nbformat": 4,
  "nbformat_minor": 0,
  "metadata": {
    "colab": {
      "provenance": [],
      "authorship_tag": "ABX9TyODRRfOet5Hv9vW/li1cku0",
      "include_colab_link": true
    },
    "kernelspec": {
      "name": "python3",
      "display_name": "Python 3"
    },
    "language_info": {
      "name": "python"
    }
  },
  "cells": [
    {
      "cell_type": "markdown",
      "metadata": {
        "id": "view-in-github",
        "colab_type": "text"
      },
      "source": [
        "<a href=\"https://colab.research.google.com/github/CesarRC7/Simulaci-n-I/blob/main/Metodo_MC.ipynb\" target=\"_parent\"><img src=\"https://colab.research.google.com/assets/colab-badge.svg\" alt=\"Open In Colab\"/></a>"
      ]
    },
    {
      "cell_type": "code",
      "execution_count": null,
      "metadata": {
        "id": "GH1nIJaTyEnK"
      },
      "outputs": [],
      "source": []
    },
    {
      "cell_type": "code",
      "source": [
        "import numpy as np\n",
        "from scipy.integrate import quad\n",
        "\n",
        "# Definimos la función: f(x) = sqrt(arctan(x))\n",
        "def f(x):\n",
        "    return np.sqrt(np.arctan(x))\n",
        "\n",
        "def monte_carlo_integral(f, a, b, n):\n",
        "    \"\"\"\n",
        "    Estima la integral de una función 'f' en el intervalo [a, b] usando el método de Monte Carlo Crudo.\n",
        "\n",
        "    Parámetros:\n",
        "    f (función): la función a integrar\n",
        "    a (float): límite inferior del intervalo\n",
        "    b (float): límite superior del intervalo\n",
        "    n (int): número de puntos aleatorios a generar\n",
        "\n",
        "    Retorna:\n",
        "    integral_estimada (float): valor estimado de la integral\n",
        "    \"\"\"\n",
        "    # Generar 'n' puntos aleatorios en el intervalo [a, b]\n",
        "    x_random = np.random.uniform(a, b, n)\n",
        "\n",
        "    # Evaluamos la funcion en estos puntos\n",
        "    f_values = f(x_random)\n",
        "\n",
        "    # Estimación de la integral\n",
        "    integral_estimada = (b - a) * np.mean(f_values)\n",
        "\n",
        "    return integral_estimada\n",
        "\n",
        "def integral_exacta(a, b):\n",
        "    \"\"\"\n",
        "    Calcula el valor exacto de la integral de la función f(x) = sqrt(arctan(x)) en el intervalo [a, b]\n",
        "\n",
        "    Parámetros:\n",
        "    a (float): límite inferior del intervalo\n",
        "    b (float): límite superior del intervalo\n",
        "\n",
        "    Retorna:\n",
        "    integral_exacta (float): valor exacto de la integral\n",
        "    \"\"\"\n",
        "    integral_exacta, _ = quad(f, a, b)\n",
        "    return integral_exacta\n",
        "\n",
        "# Intervalo de integración\n",
        "a = 0\n",
        "b = 1\n",
        "\n",
        "# Numero aleatorio a generar\n",
        "n = 10000\n",
        "\n",
        "# Aqui calculamos la integral\n",
        "integral_estimacion = monte_carlo_integral(f, a, b, n)\n",
        "\n",
        "# Calcular el valor exacto de la integral\n",
        "valor_exacto = integral_exacta(a, b)\n",
        "\n",
        "# Calcular el error de la estimación\n",
        "error = abs(integral_estimacion - valor_exacto)\n",
        "\n",
        "# Resultado\n",
        "print(f\"Estimación de la integral de f(x) en [{a}, {b}] con {n} puntos: {integral_estimacion}\")\n",
        "print(f\"Valor exacto de la integral: {valor_exacto}\")\n",
        "print(f\"Error en la estimación: {error}\")\n"
      ],
      "metadata": {
        "id": "Lr8Ae1xYtijb",
        "outputId": "6e9a3041-6db9-433c-a787-02ab0dca864d",
        "colab": {
          "base_uri": "https://localhost:8080/"
        }
      },
      "execution_count": 1,
      "outputs": [
        {
          "output_type": "stream",
          "name": "stdout",
          "text": [
            "Estimación de la integral de f(x) en [0, 1] con 10000 puntos: 0.6319756551897406\n",
            "Valor exacto de la integral: 0.6298233442079734\n",
            "Error en la estimación: 0.002152310981767269\n"
          ]
        }
      ]
    }
  ]
}